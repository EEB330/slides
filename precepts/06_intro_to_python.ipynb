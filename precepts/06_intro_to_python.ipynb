{
 "cells": [
  {
   "cell_type": "markdown",
   "metadata": {},
   "source": [
    "# EEB330 – Precept 06: Intro to Python"
   ]
  },
  {
   "cell_type": "markdown",
   "metadata": {},
   "source": [
    "## Exercise 1: Data Manipulation with `pandas`\n",
    "\n",
    "### Instructions:\n",
    "1. Load the `tips` dataset into a pandas DataFrame. (The `tips` dataset is available within the seaborn library.)\n",
    "2. Add a new column to the DataFrame called 'tip_percentage' by dividing the 'tip' column by the 'total_bill' column to get the percentage of the tip amount.\n",
    "3. Create a new DataFrame that only includes dinners with a party size of 2.\n",
    "4. Save the filtered DataFrame to a new CSV file.\n",
    "\n",
    "**Deliverables:**\n",
    "- A cell in your jupyter notebook that completes all of the above steps and displays the results.\n",
    "- The new CSV file containing the filtered data."
   ]
  },
  {
   "cell_type": "code",
   "execution_count": null,
   "metadata": {},
   "outputs": [],
   "source": [
    "# Your code here!"
   ]
  },
  {
   "cell_type": "markdown",
   "metadata": {},
   "source": [
    "## Exercise 2: Data Visualization with `matplotlib` and `seaborn`\n",
    "\n",
    "**Objective:** Demonstrate data visualization skills using `matplotlib` and `seaborn` with the `tips` dataset.\n",
    "\n",
    "### Instructions:\n",
    "1. Using the `tips` dataset from `seaborn`, create a boxplot to visualize the distribution of total bills by day.\n",
    "2. Generate a count plot that shows the number of dinners for each day.\n",
    "3. Create a scatter plot to examine the relationship between 'total_bill' and 'tip'.\n",
    "4. Enhance the scatter plot by using a different marker for each time (Dinner or Lunch).\n",
    "\n",
    "**Deliverables:**\n",
    "- The plots described above with appropriate titles, axis labels, and legends."
   ]
  },
  {
   "cell_type": "code",
   "execution_count": null,
   "metadata": {},
   "outputs": [],
   "source": [
    "# Your code here!"
   ]
  },
  {
   "cell_type": "markdown",
   "metadata": {},
   "source": [
    "## Exercise 3: K-Nearest Neighbors Classifier with `scikit-learn`\n",
    "\n",
    "**Objective:** Apply the `KNeighborsClassifier` from `scikit-learn` to classify iris species using the `iris` dataset.\n",
    "\n",
    "### Instructions:\n",
    "\n",
    "1. Load the `iris` dataset from seaborn, which contains features for iris flowers and a species label (just as in R!).\n",
    "2. Examine the dataset to familiarize yourself with the features (`sepal_length`, `sepal_width`, `petal_length`, `petal_width`) and target (species).\n",
    "3. Split the dataset into a set of features and target variable.\n",
    "4. Divide the dataset into training and testing sets using a 70-30 split.\n",
    "5. Create an instance of the `KNeighborsClassifier` from `scikit-learn` with `n_neighbors=3`.\n",
    "6. Train the classifier on the training data.\n",
    "7. Make predictions with the classifier on your test data.\n",
    "8. Calculate and report the accuracy score of your model.\n",
    "9. (Optional) Visualize the results with a confusion matrix.\n",
    "\n",
    "**Deliverables:**\n",
    "- The code for loading, examining, and splitting the data.\n",
    "- The code for training the KNN classifier and making predictions.\n",
    "- The accuracy score of the model on the test data.\n",
    "- (Optional) A confusion matrix visualization."
   ]
  },
  {
   "cell_type": "code",
   "execution_count": 17,
   "metadata": {},
   "outputs": [
    {
     "name": "stdout",
     "output_type": "stream",
     "text": [
      "   sepal_length  sepal_width  petal_length  petal_width species\n",
      "0           5.1          3.5           1.4          0.2  setosa\n",
      "1           4.9          3.0           1.4          0.2  setosa\n",
      "2           4.7          3.2           1.3          0.2  setosa\n",
      "3           4.6          3.1           1.5          0.2  setosa\n",
      "4           5.0          3.6           1.4          0.2  setosa\n"
     ]
    }
   ],
   "source": [
    "# Import the necessary libraries\n",
    "import seaborn as sns\n",
    "from sklearn.model_selection import train_test_split\n",
    "from sklearn.neighbors import KNeighborsClassifier\n",
    "from sklearn.metrics import accuracy_score, confusion_matrix, classification_report\n",
    "import matplotlib.pyplot as plt\n",
    "\n",
    "# Load the dataset\n",
    "iris = sns.load_dataset(\"iris\")\n",
    "\n",
    "# Examine the first few rows of the dataframe\n",
    "print(iris.head())\n",
    "\n",
    "# Define features and target\n",
    "X = iris.drop(\"species\", axis=1)\n",
    "y = iris[\"species\"]\n",
    "\n",
    "# Your code here!"
   ]
  }
 ],
 "metadata": {
  "kernelspec": {
   "display_name": "eeb330",
   "language": "python",
   "name": "python3"
  },
  "language_info": {
   "codemirror_mode": {
    "name": "ipython",
    "version": 3
   },
   "file_extension": ".py",
   "mimetype": "text/x-python",
   "name": "python",
   "nbconvert_exporter": "python",
   "pygments_lexer": "ipython3",
   "version": "3.10.0"
  }
 },
 "nbformat": 4,
 "nbformat_minor": 2
}
