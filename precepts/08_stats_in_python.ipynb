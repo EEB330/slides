{
 "cells": [
  {
   "cell_type": "markdown",
   "metadata": {},
   "source": [
    "# EEB330 – Precept 08: Stats in Python\n",
    "### Author: Michelle White\n",
    "### Date: November 7, 2024\n",
    "### Output: html\n",
    "\n",
    "# [GitHub Assignment Link](https://classroom.github.com/a/jwO4vgLq)\n",
    "* All exercises are to be completed in Python\n",
    "* Due 1 week from today"
   ]
  },
  {
   "cell_type": "markdown",
   "metadata": {},
   "source": [
    "## Exercise 1: Hypothesis Testing with `scipy`\n",
    "#### Example from [geeksforgeeks.org](https://www.geeksforgeeks.org/how-to-conduct-a-two-sample-t-test-in-python/).\n",
    "\n",
    "### Instructions:\n",
    "1. Assess the homogeneity of variance in the sample datasets\n",
    "2. Determine if the sample data is approximately normally distributed\n",
    "3. Make sure there are no significant outliers in the sample data\n",
    "4. Perform a two-sample t-test on the sample data and report the p-value\n",
    "\n",
    "### Deliverables:\n",
    "- Sufficient evidence that the assumptions of the t-test have been considered\n",
    "- A t-test p-value and corresponding interpretation of the p-value\n",
    "- Responses to the following questions: What is the difference between a two-sample versus paired t-test? Which `scipy` functions would you use for each?"
   ]
  },
  {
   "cell_type": "code",
   "execution_count": 1,
   "metadata": {},
   "outputs": [],
   "source": [
    "# import the necessary libraries\n",
    "import numpy as np\n",
    "import scipy.stats as stats\n",
    "\n",
    "# create sample data\n",
    "data_group1 = np.array([14, 15, 15, 16, 13, 8, 14,\n",
    "                        17, 16, 14, 19, 20, 21, 15,\n",
    "                        15, 16, 16, 13, 14, 12])\n",
    "\n",
    "data_group2 = np.array([15, 17, 14, 17, 14, 8, 12,\n",
    "                        19, 19, 14, 17, 22, 24, 16,\n",
    "                        13, 16, 13, 18, 15, 13])"
   ]
  },
  {
   "cell_type": "code",
   "execution_count": 2,
   "metadata": {},
   "outputs": [],
   "source": [
    "# Your code here!"
   ]
  },
  {
   "cell_type": "markdown",
   "metadata": {},
   "source": [
    "## Exercise 2: Fitting Curves with `scipy`\n",
    "#### Example from [geeksforgeeks.org](https://www.geeksforgeeks.org/scipy-curve-fitting/).\n",
    "\n",
    "### Instructions:\n",
    "1. Create a function `sine_fit` that accepts an independent variable (your data), the amplitude, and the phase shift of a sine wave and returns the resulting y-value\n",
    "2. Call `scipy`'s `curve_fit` to estimate the parameters of your sample data (Hint: the first argument is your callable `sine_fit` function)\n",
    "3. Plot the sample data in red and overlay the fitted curve as a dashed blue line\n",
    "\n",
    "### Deliverables:\n",
    "- A plot of the sample data overlaid with the fitted curve\n",
    "- Responses to the following questions: What is the purpose of using `np.random.normal` to create the sample data? How does knowing the sample data takes the form of a sine wave help inform the way you define `sine_fit`?"
   ]
  },
  {
   "cell_type": "code",
   "execution_count": 3,
   "metadata": {},
   "outputs": [],
   "source": [
    "# import the necessary libraries\n",
    "import numpy as np\n",
    "import matplotlib.pyplot as plt\n",
    "from scipy.optimize import curve_fit\n",
    "\n",
    "# create sample data\n",
    "x = np.linspace(0, 10, num = 40)\n",
    "y = 3.45 * np.sin(1.334 * x) + np.random.normal(size = 40)"
   ]
  },
  {
   "cell_type": "code",
   "execution_count": 4,
   "metadata": {},
   "outputs": [],
   "source": [
    "# Your code here!"
   ]
  },
  {
   "cell_type": "markdown",
   "metadata": {},
   "source": [
    "## Exercise 3: Sensitivity Analysis with `sensitivity`\n",
    "\n",
    "#### Example from the [Sensitivity Analysis Documentation](https://nickderobertis.github.io/sensitivity/auto_examples/sensitivity_analysis.html).\n",
    "\n",
    "### Instructions:\n",
    "\n",
    "1. Create a Python dictionary where `x1` and `x2` are the keys\n",
    "2. Use `SensitivityAnalyzer` and `my_model` to obtain a DataFrame and hexbin plot of the results\n",
    "3. Add a third key `x3` with values `[5, 10, 15]` to your dictionary\n",
    "4. Analyze and plot the pairwise sensitivities of all three variables using `my_model2`\n",
    "\n",
    "### Deliverables:\n",
    "- Three hexbin plots of the pairwise sensitivities among `x1`, `x2`, and `x3` based on `my_model2`\n",
    "- Responses to the following questions: What do `my_model` and `my_model2` represent in this example? How is the sensitivity between `x1` and `x2` different from the sensitvity between `x2` and `x3` for the given `my_model2`?\n"
   ]
  },
  {
   "cell_type": "code",
   "execution_count": null,
   "metadata": {},
   "outputs": [],
   "source": [
    "# import the necessary libraries\n",
    "import pandas as pd\n",
    "from sensitivity import SensitivityAnalyzer\n",
    "\n",
    "# define some functions for known models\n",
    "def my_model(x1, x2):\n",
    "    return x1 ** x2\n",
    "\n",
    "def my_model2(x1, x2, x3):\n",
    "    return x1 * x2 ** x3\n",
    "\n",
    "# create sample data\n",
    "x1_vals = [10, 20, 30]\n",
    "x2_vals = [1, 2, 3]"
   ]
  }
 ],
 "metadata": {
  "kernelspec": {
   "display_name": "base",
   "language": "python",
   "name": "python3"
  },
  "language_info": {
   "codemirror_mode": {
    "name": "ipython",
    "version": 3
   },
   "file_extension": ".py",
   "mimetype": "text/x-python",
   "name": "python",
   "nbconvert_exporter": "python",
   "pygments_lexer": "ipython3",
   "version": "3.11.9"
  }
 },
 "nbformat": 4,
 "nbformat_minor": 2
}
