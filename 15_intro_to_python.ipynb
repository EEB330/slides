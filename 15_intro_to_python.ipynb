{
 "cells": [
  {
   "cell_type": "markdown",
   "metadata": {
    "slideshow": {
     "slide_type": "slide"
    }
   },
   "source": [
    "<link rel=\"stylesheet\" type=\"text/css\" href=\"15_intro_to_python/custom.css\">\n",
    "\n",
    "# Introduction to Python"
   ]
  },
  {
   "cell_type": "markdown",
   "metadata": {
    "slideshow": {
     "slide_type": "slide"
    }
   },
   "source": [
    "## What is Python?\n",
    "\n",
    "---\n",
    "\n",
    "- High-level, interpreted language\n",
    "- Known for its simplicity and readability\n",
    "- Widely used in web development, data analysis, artificial intelligence, and more"
   ]
  },
  {
   "cell_type": "markdown",
   "metadata": {
    "slideshow": {
     "slide_type": "slide"
    }
   },
   "source": [
    "## Python vs. R: Key Differences\n",
    "\n",
    "---\n",
    "\n",
    "- **Purpose**: Python is a general-purpose language, while R was specifically designed for statistics and data analysis.\n",
    "- **Syntax**: Python emphasizes readability and simplicity; R has a steeper learning curve for those not familiar with programming.\n",
    "- **Community**: Python has a broader community, while R's community is highly specialized in statistics and data science."
   ]
  },
  {
   "cell_type": "markdown",
   "metadata": {
    "slideshow": {
     "slide_type": "slide"
    }
   },
   "source": [
    "## Python's Philosophy\n",
    "\n",
    "---\n",
    "\n",
    "Python emphasizes readability and simplicity in programming. The language's core philosophy includes several guiding principles:\n",
    "\n",
    "- **Beautiful is better than ugly:** Code should be aesthetically pleasing.\n",
    "- **Explicit is better than implicit:** Clarity is key.\n",
    "- **Simple is better than complex:** Favor simple solutions.\n",
    "- **Readability counts:** Write code that others can easily read and understand.\n"
   ]
  },
  {
   "cell_type": "code",
   "execution_count": 60,
   "metadata": {
    "slideshow": {
     "slide_type": "skip"
    }
   },
   "outputs": [
    {
     "data": {
      "text/plain": [
       "'15_intro_to_python/01_choropleth_unemployment.html'"
      ]
     },
     "execution_count": 60,
     "metadata": {},
     "output_type": "execute_result"
    }
   ],
   "source": [
    "from urllib.request import urlopen\n",
    "import json\n",
    "import pandas as pd\n",
    "import plotly.express as px\n",
    "from plotly.offline import plot\n",
    "\n",
    "# Load GeoJSON for counties\n",
    "with urlopen('https://raw.githubusercontent.com/plotly/datasets/master/geojson-counties-fips.json') as response:\n",
    "    counties = json.load(response)\n",
    "\n",
    "# Load the unemployment data into a pandas DataFrame\n",
    "df = pd.read_csv(\n",
    "    \"https://raw.githubusercontent.com/plotly/datasets/master/fips-unemp-16.csv\",\n",
    "    dtype={\"fips\": str}\n",
    ")\n",
    "\n",
    "# Create the choropleth figure\n",
    "fig = px.choropleth(\n",
    "    df,\n",
    "    geojson=counties,\n",
    "    locations='fips',\n",
    "    color='unemp',\n",
    "    color_continuous_scale=\"Viridis\",  # Adjusted to use the Viridis color scale\n",
    "    range_color=(0, 12),  # Set the range of the color scale\n",
    "    scope=\"usa\",\n",
    "    labels={'unemp': 'Unemployment Rate', 'fips': 'FIPS Code'},\n",
    ")\n",
    "\n",
    "# Update the layout to minimize the margins\n",
    "\n",
    "# Update the layout to minimize the margins and adjust color bar\n",
    "fig.update_layout(\n",
    "    margin={\"r\": 0, \"t\": 0, \"l\": 0, \"b\": 0},\n",
    "    coloraxis_colorbar=dict(\n",
    "        title=\"Unemployment Rate\",\n",
    "        thicknessmode=\"pixels\", thickness=20,\n",
    "        lenmode=\"fraction\", len=0.5,\n",
    "        yanchor=\"middle\", y=0.5,\n",
    "        ticks=\"outside\", ticksuffix=\"%\",\n",
    "        dtick=2\n",
    "    )\n",
    ")\n",
    "fig.update_layout(\n",
    "    margin={\"r\": 0, \"t\": 0, \"l\": 0, \"b\": 0},\n",
    ")\n",
    "# Plot and save as .html file\n",
    "plot(fig, filename='15_intro_to_python/01_choropleth_unemployment.html', auto_open=False)\n"
   ]
  },
  {
   "cell_type": "markdown",
   "metadata": {
    "slideshow": {
     "slide_type": "slide"
    }
   },
   "source": [
    "## Python Applications\n",
    "\n",
    "---\n",
    "\n",
    "- Web Development (Django, Flask)\n",
    "- Data Analysis (Pandas, NumPy)\n",
    "- Machine Learning (PyTorch, TensorFlow, scikit-learn)\n",
    "- Automation and Scripting\n",
    "- Scientific Computing\n",
    "- Data Visualization (Matplotlib, Seaborn, Plotly)\n"
   ]
  },
  {
   "cell_type": "markdown",
   "metadata": {
    "slideshow": {
     "slide_type": "slide"
    }
   },
   "source": [
    "<style>\n",
    "  .full-screen-iframe {\n",
    "    position: fixed !important;\n",
    "    top: 0 !important;\n",
    "    left: 0 !important;\n",
    "    width: 100vh !important;\n",
    "    border: none !important;\n",
    "    margin: 0 !important;\n",
    "    padding: 0 !important;\n",
    "    z-index: 999999 !important;\n",
    "  }\n",
    "</style>\n",
    "\n",
    "<iframe class=\"full-screen-iframe\" src=\"15_intro_to_python/01_choropleth_unemployment.html\"></iframe>"
   ]
  },
  {
   "cell_type": "markdown",
   "metadata": {
    "slideshow": {
     "slide_type": "slide"
    }
   },
   "source": [
    "## Getting Started with Google Colab\n",
    "\n",
    "---\n",
    "\n",
    "- A beginner's guide to using Google's cloud-based Jupyter notebook environment.\n"
   ]
  },
  {
   "cell_type": "markdown",
   "metadata": {
    "slideshow": {
     "slide_type": "fragment"
    }
   },
   "source": [
    "<div class=\"two-column-layout\">\n",
    "  <div>\n",
    "    <ul>\n",
    "        <li><strong>Free access to GPUs</strong>: Useful for machine learning tasks.</li>\n",
    "        <li><strong>No setup required</strong>: Write and execute code directly.</li>\n",
    "        <li><strong>Easy sharing</strong>: Just like Google Docs, you can share your Colab notebooks with others.</li>\n",
    "    </ul>\n",
    "  </div>\n",
    "  <div>\n",
    "    <a href=\"https://colab.research.google.com\" target=\"_blank\">\n",
    "      <img src=\"figures/Google_Colaboratory_SVG_Logo.svg\" alt=\"Google Colaboratory Logo\">\n",
    "    </a>\n",
    "  </div>\n",
    "</div>\n"
   ]
  },
  {
   "cell_type": "markdown",
   "metadata": {
    "slideshow": {
     "slide_type": "subslide"
    }
   },
   "source": [
    "## Creating a New Notebook\n",
    "1. Go to [Google Colab](https://colab.research.google.com).\n",
    "2. Click on `New Notebook` to create a new notebook.\n",
    "3. A new notebook will open with an empty cell.\n",
    "\n",
    "You can start typing Python code directly into the cells!"
   ]
  },
  {
   "cell_type": "markdown",
   "metadata": {
    "slideshow": {
     "slide_type": "subslide"
    }
   },
   "source": [
    "## Writing and Running Code\n",
    "To write and execute Python in Colab:\n",
    "\n",
    "1. Click on a cell to start typing code.\n",
    "2. Press `Shift + Enter` to run the code in the cell.\n",
    "3. The output will appear right below the cell.\n"
   ]
  }
 ],
 "metadata": {
  "kernelspec": {
   "display_name": "Python 3",
   "language": "python",
   "name": "python3"
  },
  "language_info": {
   "codemirror_mode": {
    "name": "ipython",
    "version": 3
   },
   "file_extension": ".py",
   "mimetype": "text/x-python",
   "name": "python",
   "nbconvert_exporter": "python",
   "pygments_lexer": "ipython3",
   "version": "3.10.8"
  }
 },
 "nbformat": 4,
 "nbformat_minor": 2
}
