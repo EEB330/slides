{
 "cells": [
  {
   "cell_type": "markdown",
   "metadata": {
    "slideshow": {
     "slide_type": "slide"
    }
   },
   "source": [
    "<!-- ls *.ipynb | entr -r jupyter nbconvert 15_intro_to_python.ipynb --to slides --post serve --template reveal --SlidesExporter.reveal_number='c/t' --SlidesExporter.reveal_scroll=True -->\n",
    "\n",
    "<link rel=\"stylesheet\" type=\"text/css\" href=\"15_intro_to_python/custom.css\">\n",
    "\n",
    "# Introduction to Python\n"
   ]
  },
  {
   "cell_type": "markdown",
   "metadata": {
    "slideshow": {
     "slide_type": "slide"
    }
   },
   "source": [
    "## What is Python?\n",
    "\n",
    "---\n",
    "\n",
    "- High-level, interpreted language\n",
    "- Known for its simplicity and readability\n",
    "- Widely used in web development, data analysis, artificial intelligence, and more"
   ]
  },
  {
   "cell_type": "markdown",
   "metadata": {
    "slideshow": {
     "slide_type": "slide"
    }
   },
   "source": [
    "## Python vs. R: Key Differences\n",
    "\n",
    "---\n",
    "\n",
    "- **Purpose**: Python is a general-purpose language, while R was specifically designed for statistics and data analysis.\n",
    "- **Syntax**: Python emphasizes readability and simplicity; R has a steeper learning curve for those not familiar with programming.\n",
    "- **Community**: Python has a broader community, while R's community is highly specialized in statistics and data science."
   ]
  },
  {
   "cell_type": "markdown",
   "metadata": {
    "slideshow": {
     "slide_type": "slide"
    }
   },
   "source": [
    "## Python's Philosophy\n",
    "\n",
    "---\n",
    "\n",
    "Python emphasizes readability and simplicity in programming. The language's core philosophy includes several guiding principles:\n",
    "\n",
    "- **Beautiful is better than ugly:** Code should be aesthetically pleasing.\n",
    "- **Explicit is better than implicit:** Clarity is key.\n",
    "- **Simple is better than complex:** Favor simple solutions.\n",
    "- **Readability counts:** Write code that others can easily read and understand.\n"
   ]
  },
  {
   "cell_type": "markdown",
   "metadata": {
    "slideshow": {
     "slide_type": "slide"
    }
   },
   "source": [
    "## Code Quality!\n",
    "\n",
    "### Code Formatters\n",
    "- **Black**: A *highly* opinionated formatter that reformats your code into a consistent style.\n",
    "    >\"Any color you like.\"\n",
    "\n",
    "- **autopep8**: Automatically formats Python code to conform to the PEP 8 style guide.\n",
    "\n",
    "- **isort**: Sorts imports alphabetically and automatically separated into sections and by type.\n",
    "---\n",
    "\n",
    "### Linters\n",
    "- **Flake8**: A tool that checks the style and quality of Python code to help you write clean code.\n",
    "- **Pylint**: Analyzes Python code for errors and enforces a coding standard."
   ]
  },
  {
   "cell_type": "code",
   "execution_count": 11,
   "metadata": {
    "slideshow": {
     "slide_type": "subslide"
    }
   },
   "outputs": [
    {
     "name": "stdout",
     "output_type": "stream",
     "text": [
      "3\n"
     ]
    }
   ],
   "source": [
    "import json,os,sys,time\n",
    "from typing import Any\n",
    "def calc_sum(lst):\n",
    "    return sum(lst)\n",
    "def manipulate_sum(result):\n",
    "    return result*2-3*3\n",
    "numbers=[1,2,3]\n",
    "total=calc_sum(numbers)\n",
    "print(manipulate_sum(total))"
   ]
  },
  {
   "cell_type": "code",
   "execution_count": 12,
   "metadata": {
    "slideshow": {
     "slide_type": "fragment"
    }
   },
   "outputs": [
    {
     "name": "stdout",
     "output_type": "stream",
     "text": [
      "3\n"
     ]
    }
   ],
   "source": [
    "def calc_sum(lst: list[int]) -> int:\n",
    "    \"\"\"\n",
    "    Calculate the sum of a list of integers.\n",
    "\n",
    "    Args:\n",
    "        lst (list[int]): The list of integers.\n",
    "\n",
    "    Returns:\n",
    "        int: The sum of the integers in the list.\n",
    "    \"\"\"\n",
    "    return sum(lst)\n",
    "\n",
    "\n",
    "def manipulate_sum(result: int) -> int:\n",
    "    \"\"\"\n",
    "    Manipulate the result by multiplying it by 2 and subtracting 9.\n",
    "\n",
    "    Args:\n",
    "        result (int): The result to manipulate.\n",
    "\n",
    "    Returns:\n",
    "        int: The manipulated result.\n",
    "    \"\"\"\n",
    "    return result * 2 - 3 * 3\n",
    "\n",
    "\n",
    "numbers = [1, 2, 3]\n",
    "total = calc_sum(numbers)\n",
    "print(manipulate_sum(total))"
   ]
  },
  {
   "cell_type": "markdown",
   "metadata": {},
   "source": [
    "<div style=\"height: 3in;\"></div>"
   ]
  },
  {
   "cell_type": "code",
   "execution_count": 13,
   "metadata": {
    "slideshow": {
     "slide_type": "skip"
    }
   },
   "outputs": [
    {
     "data": {
      "text/plain": [
       "'15_intro_to_python/01_choropleth_unemployment.html'"
      ]
     },
     "execution_count": 13,
     "metadata": {},
     "output_type": "execute_result"
    }
   ],
   "source": [
    "from urllib.request import urlopen\n",
    "import json\n",
    "import pandas as pd\n",
    "import plotly.express as px\n",
    "from plotly.offline import plot\n",
    "\n",
    "# Load GeoJSON for counties\n",
    "with urlopen('https://raw.githubusercontent.com/plotly/datasets/master/geojson-counties-fips.json') as response:\n",
    "    counties = json.load(response)\n",
    "\n",
    "# Load the unemployment data into a pandas DataFrame\n",
    "df = pd.read_csv(\n",
    "    \"https://raw.githubusercontent.com/plotly/datasets/master/fips-unemp-16.csv\",\n",
    "    dtype={\"fips\": str}\n",
    ")\n",
    "\n",
    "# Create the choropleth figure\n",
    "fig = px.choropleth(\n",
    "    df,\n",
    "    geojson=counties,\n",
    "    locations='fips',\n",
    "    color='unemp',\n",
    "    color_continuous_scale=\"Viridis\",  # Adjusted to use the Viridis color scale\n",
    "    range_color=(0, 12),  # Set the range of the color scale\n",
    "    scope=\"usa\",\n",
    "    labels={'unemp': 'Unemployment Rate', 'fips': 'FIPS Code'},\n",
    ")\n",
    "\n",
    "# Update the layout to minimize the margins\n",
    "\n",
    "# Update the layout to minimize the margins and adjust color bar\n",
    "fig.update_layout(\n",
    "    margin={\"r\": 0, \"t\": 0, \"l\": 0, \"b\": 0},\n",
    "    coloraxis_colorbar=dict(\n",
    "        title=\"Unemployment Rate\",\n",
    "        thicknessmode=\"pixels\", thickness=20,\n",
    "        lenmode=\"fraction\", len=0.5,\n",
    "        yanchor=\"middle\", y=0.5,\n",
    "        ticks=\"outside\", ticksuffix=\"%\",\n",
    "        dtick=2\n",
    "    )\n",
    ")\n",
    "fig.update_layout(\n",
    "    margin={\"r\": 0, \"t\": 0, \"l\": 0, \"b\": 0},\n",
    ")\n",
    "# Plot and save as .html file\n",
    "plot(fig, filename='15_intro_to_python/01_choropleth_unemployment.html', auto_open=False)\n"
   ]
  },
  {
   "cell_type": "markdown",
   "metadata": {
    "slideshow": {
     "slide_type": "slide"
    }
   },
   "source": [
    "## Python Applications\n",
    "\n",
    "---\n",
    "\n",
    "- Web Development (Django, Flask)\n",
    "- Data Analysis (Pandas, NumPy)\n",
    "- Machine Learning (PyTorch, TensorFlow, scikit-learn)\n",
    "- Automation and Scripting\n",
    "- Scientific Computing\n",
    "- Data Visualization (Matplotlib, Seaborn, Plotly)\n"
   ]
  },
  {
   "cell_type": "markdown",
   "metadata": {
    "slideshow": {
     "slide_type": "slide"
    }
   },
   "source": [
    "<style>\n",
    "  .full-screen-iframe {\n",
    "    position: fixed !important;\n",
    "    top: 0 !important;\n",
    "    left: 0 !important;\n",
    "    width: 100vh !important;\n",
    "    border: none !important;\n",
    "    margin: 0 !important;\n",
    "    padding: 0 !important;\n",
    "    z-index: 999999 !important;\n",
    "  }\n",
    "</style>\n",
    "\n",
    "<iframe class=\"full-screen-iframe\" src=\"slides/15_intro_to_python/01_choropleth_unemployment.html\"></iframe>"
   ]
  },
  {
   "cell_type": "markdown",
   "metadata": {
    "slideshow": {
     "slide_type": "slide"
    }
   },
   "source": [
    "## Getting Started with Google Colab\n",
    "\n",
    "---\n",
    "\n",
    "- A beginner's guide to using Google's cloud-based Jupyter notebook environment.\n",
    "\n",
    "<div class=\"two-column-layout\" style=\"display: flex;\">\n",
    "  <div style=\"flex: 1;\">\n",
    "    <ul>\n",
    "        <li><strong>Free access to GPUs</strong>: Useful for machine learning tasks.</li>\n",
    "        <li><strong>No setup required</strong>: Write and execute code directly.</li>\n",
    "        <li><strong>Easy sharing</strong>: Just like Google Docs, you can share your Colab notebooks with others.</li>\n",
    "    </ul>\n",
    "  </div>\n",
    "  <div style=\"flex: 1;\">\n",
    "    <a href=\"https://colab.research.google.com\" target=\"_blank\" >\n",
    "      <img src=\"figures/Google_Colaboratory_SVG_Logo.svg\" alt=\"Google Colaboratory Logo\" style=\"width: 100%;\">\n",
    "    </a>\n",
    "  </div>\n",
    "</div>\n",
    "\n"
   ]
  },
  {
   "cell_type": "markdown",
   "metadata": {
    "slideshow": {
     "slide_type": "subslide"
    }
   },
   "source": [
    "## Creating a New Notebook\n",
    "1. Go to [Google Colab](https://colab.research.google.com).\n",
    "2. Click on `New Notebook` to create a new notebook.\n",
    "3. A new notebook will open with an empty cell.\n",
    "\n",
    "You can start typing Python code directly into the cells!"
   ]
  },
  {
   "cell_type": "markdown",
   "metadata": {
    "slideshow": {
     "slide_type": "subslide"
    }
   },
   "source": [
    "## Writing and Running Code\n",
    "To write and execute Python in Colab:\n",
    "\n",
    "1. Click on a cell to start typing code.\n",
    "2. Press `Shift + Enter` to run the code in the cell.\n",
    "3. The output will appear right below the cell.\n"
   ]
  },
  {
   "cell_type": "markdown",
   "metadata": {
    "slideshow": {
     "slide_type": "slide"
    }
   },
   "source": [
    "## Data Types and Structures\n",
    "\n",
    "- **Integers**: Whole numbers without a fractional part.\n",
    "- **Floats**: Numbers that contain a decimal point.\n",
    "- **Strings**: A sequence of characters.\n",
    "- **Booleans**: True or False values.\n",
    "\n",
    "## Complex Data Structures\n",
    "\n",
    "- **Lists**: Ordered and mutable collection of items (similar to R lists).\n",
    "- **Tuples**: Ordered and immutable collection of items.\n",
    "- **Dictionaries**: Unordered collection of key-value pairs (similar to R lists with named elements).\n",
    "- **Sets**: Unordered collection of unique elements.\n"
   ]
  },
  {
   "cell_type": "markdown",
   "metadata": {
    "slideshow": {
     "slide_type": "subslide"
    }
   },
   "source": [
    "## Some examples"
   ]
  },
  {
   "cell_type": "code",
   "execution_count": 8,
   "metadata": {},
   "outputs": [
    {
     "name": "stdout",
     "output_type": "stream",
     "text": [
      "This is the first fruit: apple\n",
      "This is the person's name: John\n"
     ]
    }
   ],
   "source": [
    "# Integers and Floats\n",
    "x = 10      # Default integer\n",
    "y = 2.5     # Default floating point\n",
    "\n",
    "# Strings\n",
    "name = \"John Doe\"\n",
    "\n",
    "# Booleans\n",
    "is_valid = True\n",
    "\n",
    "# Lists\n",
    "fruits = [\"apple\", \"banana\", \"cherry\"]\n",
    "\n",
    "# Accessing list elements and printing with string interpolation\n",
    "print(f\"This is the first fruit: {fruits[0]}\")\n",
    "\n",
    "# Dictionaries\n",
    "person = {\"name\": \"John\", \"age\": 30}\n",
    "print(f\"This is the person's name: {person['name']}\")\n"
   ]
  },
  {
   "cell_type": "markdown",
   "metadata": {
    "jp-MarkdownHeadingCollapsed": true,
    "slideshow": {
     "slide_type": "slide"
    }
   },
   "source": [
    "## Indexing and Slicing\n",
    "\n",
    "- Zero-based indexing\n",
    "- Negative indices for reverse order\n",
    "- Slicing to extract portions of a list"
   ]
  },
  {
   "cell_type": "code",
   "execution_count": 2,
   "metadata": {
    "slideshow": {
     "slide_type": "subslide"
    }
   },
   "outputs": [
    {
     "name": "stdout",
     "output_type": "stream",
     "text": [
      "0\n",
      "5\n",
      "[2, 3, 4]\n",
      "[0, 1, 2]\n",
      "[3, 4, 5]\n"
     ]
    }
   ],
   "source": [
    "# Indexing\n",
    "numbers = [0, 1, 2, 3, 4, 5]\n",
    "print(numbers[0])   # First element\n",
    "print(numbers[-1])  # Last element\n",
    "\n",
    "# Slicing\n",
    "print(numbers[2:5]) # From 3rd to 5th element\n",
    "print(numbers[:3])  # First three elements\n",
    "print(numbers[-3:]) # Last three elements"
   ]
  },
  {
   "cell_type": "markdown",
   "metadata": {
    "slideshow": {
     "slide_type": "slide"
    }
   },
   "source": [
    "## Control Flow\n"
   ]
  },
  {
   "cell_type": "code",
   "execution_count": 16,
   "metadata": {},
   "outputs": [
    {
     "name": "stdout",
     "output_type": "stream",
     "text": [
      "x is less than y\n"
     ]
    }
   ],
   "source": [
    "# If-Else\n",
    "x = 10\n",
    "y = 20\n",
    "\n",
    "if x > y:\n",
    "    print(\"x is greater than y\")\n",
    "elif x < y:\n",
    "    print(\"x is less than y\")\n",
    "else:\n",
    "    print(\"x and y are equal\")"
   ]
  },
  {
   "cell_type": "markdown",
   "metadata": {
    "slideshow": {
     "slide_type": "slide"
    }
   },
   "source": [
    "## Control Structures: Looping\n",
    "\n",
    "- `for` loops for iterating over sequences\n",
    "- `while` loops for repeated execution as long as a condition is met\n",
    "- Comprehensions for concise loop constructs\n",
    "    - Very \"Pythonic\" way of writing loops"
   ]
  },
  {
   "cell_type": "code",
   "execution_count": 17,
   "metadata": {},
   "outputs": [
    {
     "name": "stdout",
     "output_type": "stream",
     "text": [
      "[0, 1, 4, 9, 16, 25, 36, 49, 64, 81]\n",
      "{'Alice': 5, 'Bob': 3, 'Charlie': 7}\n",
      "Length of Alice's name: 5\n"
     ]
    }
   ],
   "source": [
    "# List comprehension -- similar to lapply in R\n",
    "squares = [x**2 for x in range(10)]\n",
    "print(squares)\n",
    "\n",
    "# Dictionary comprehension\n",
    "names = ['Alice', 'Bob', 'Charlie']\n",
    "name_lengths = {name: len(name) for name in names}\n",
    "\n",
    "print(name_lengths)\n",
    "print(f\"Length of Alice's name: {name_lengths['Alice']}\")"
   ]
  },
  {
   "cell_type": "markdown",
   "metadata": {
    "slideshow": {
     "slide_type": "slide"
    }
   },
   "source": [
    "## Functions and lambda functions"
   ]
  },
  {
   "cell_type": "code",
   "execution_count": 18,
   "metadata": {},
   "outputs": [
    {
     "name": "stdout",
     "output_type": "stream",
     "text": [
      "1 + 2 = 3\n"
     ]
    }
   ],
   "source": [
    "def add(x, y):\n",
    "    return x + y\n",
    "\n",
    "# We can call the function within an f-string!\n",
    "print(f\"1 + 2 = {add(1, 2)}\")"
   ]
  },
  {
   "cell_type": "markdown",
   "metadata": {
    "slideshow": {
     "slide_type": "slide"
    }
   },
   "source": [
    "## Working with Libraries\n",
    "\n",
    "Google Colab comes with many popular Python libraries pre-installed, making it easy to get started with data analysis and visualization.\n",
    "\n",
    "### Pre-installed Libraries\n",
    "- **NumPy**: For numerical computing.\n",
    "- **Pandas**: For data manipulation and analysis.\n",
    "- **Matplotlib**: For creating visualizations.\n",
    "\n",
    "### Installing Additional Libraries\n",
    "If you need a library that is not pre-installed, you can install it using `pip`: Python's package manager."
   ]
  },
  {
   "cell_type": "code",
   "execution_count": 19,
   "metadata": {},
   "outputs": [],
   "source": [
    "%%script false --no-raise-error\n",
    "\n",
    "!pip install LIBRARY_NAME"
   ]
  },
  {
   "cell_type": "markdown",
   "metadata": {
    "slideshow": {
     "slide_type": "subslide"
    }
   },
   "source": [
    "## Importing Libraries"
   ]
  },
  {
   "cell_type": "code",
   "execution_count": 20,
   "metadata": {},
   "outputs": [
    {
     "data": {
      "image/png": "[encoded data removed]",
      "text/plain": [
       "<Figure size 2400x1350 with 1 Axes>"
      ]
     },
     "metadata": {},
     "output_type": "display_data"
    }
   ],
   "source": [
    "import numpy as np\n",
    "import pandas as pd\n",
    "import matplotlib.pyplot as plt\n",
    "\n",
    "# Using NumPy to create an array\n",
    "arr = np.array([1, 2, 3, 4, 5])\n",
    "\n",
    "# Creating a DataFrame with Pandas\n",
    "df = pd.DataFrame(arr, columns=['Numbers'])\n",
    "\n",
    "# Plotting with Matplotlib\n",
    "plt.subplots(figsize=(16,9),dpi=150)  # Adjusted figure size to be larger\n",
    "plt.plot(arr)\n",
    "plt.title('Simple Plot')\n",
    "plt.xlabel('Index')\n",
    "plt.ylabel('Values')\n",
    "plt.show()"
   ]
  },
  {
   "cell_type": "markdown",
   "metadata": {},
   "source": []
  },
  {
   "cell_type": "markdown",
   "metadata": {},
   "source": [
    "<div style=\"height: 3in;\"></div>"
   ]
  },
  {
   "cell_type": "code",
   "execution_count": null,
   "metadata": {},
   "outputs": [],
   "source": []
  }
 ],
 "metadata": {
  "kernelspec": {
   "display_name": "Python 3 (ipykernel)",
   "language": "python",
   "name": "python3"
  },
  "language_info": {
   "codemirror_mode": {
    "name": "ipython",
    "version": 3
   },
   "file_extension": ".py",
   "mimetype": "text/x-python",
   "name": "python",
   "nbconvert_exporter": "python",
   "pygments_lexer": "ipython3",
   "version": "3.10.0"
  }
 },
 "nbformat": 4,
 "nbformat_minor": 4
}
